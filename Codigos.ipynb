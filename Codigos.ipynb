{
 "cells": [
  {
   "cell_type": "code",
   "execution_count": null,
   "metadata": {},
   "outputs": [],
   "source": [
    "import pandas as pd\n",
    "from sklearn.ensemble import RandomForestClassifier\n",
    "\n",
    "# Cargar los datos en un DataFrame de pandas\n",
    "df = pd.read_csv('datos.csv')\n",
    "\n",
    "# Separar los datos en características (X) y etiquetas (y)\n",
    "X = df.drop('etiqueta', axis=1)\n",
    "y = df['etiqueta']\n",
    "\n",
    "# Crear un modelo de RandomForestClassifier\n",
    "rf = RandomForestClassifier()\n",
    "\n",
    "# Entrenar el modelo con todas las características\n",
    "rf.fit(X, y)\n",
    "\n",
    "# Obtener la importancia de cada característica\n",
    "importances = rf.feature_importances_\n",
    "\n",
    "# Crear una lista de tuplas con la importancia y el nombre de cada característica\n",
    "feature_importances = [(importance, feature) for feature, importance in zip(X.columns, importances)]\n",
    "\n",
    "# Ordenar la lista en orden descendente de importancia\n",
    "feature_importances = sorted(feature_importances, reverse=True)\n",
    "\n",
    "# Imprimir las características más importantes\n",
    "for importance, feature in feature_importances[:10]:\n",
    "    print(f'{feature}: {importance:.3f}')\n"
   ]
  }
 ],
 "metadata": {
  "language_info": {
   "name": "python"
  },
  "orig_nbformat": 4
 },
 "nbformat": 4,
 "nbformat_minor": 2
}
